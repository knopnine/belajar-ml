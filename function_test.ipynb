{
 "cells": [
  {
   "cell_type": "code",
   "execution_count": 1,
   "metadata": {},
   "outputs": [
    {
     "name": "stdout",
     "output_type": "stream",
     "text": [
      "total gaji karyawan tersebut adalah 4950000.0\n",
      "total gaji karyawan tersebut adalah 3613500.0\n"
     ]
    }
   ],
   "source": [
    "def penghasilan(karyawan_type, overtime):\n",
    "    gaji_kartap = 4500000\n",
    "    gaji_kontrak = 0.7*4500000\n",
    "    pajak = 0.01\n",
    "    if karyawan_type == \"tetap\":\n",
    "        if overtime > 0 and overtime <= 20:\n",
    "            gaji_total = (overtime*50000)+gaji_kartap\n",
    "            gaji_net = gaji_total-(gaji_total*pajak)\n",
    "            print(f\"total gaji karyawan tersebut adalah {gaji_net}\")\n",
    "        elif overtime > 20:\n",
    "            gaji_total = (20*50000)+gaji_kartap\n",
    "            gaji_net = gaji_total-(gaji_total*pajak)\n",
    "            print(f\"total gaji karyawan tersebut adalah {gaji_net}\")                   \n",
    "        else :\n",
    "            gaji_total = gaji_kartap\n",
    "            gaji_net = gaji_total-(gaji_total*pajak)\n",
    "            print(f\"total gaji karyawan tersebut adalah {gaji_net}\")\n",
    "    elif karyawan_type == \"kontrak\" :\n",
    "        if overtime > 0 and overtime <= 20:\n",
    "            gaji_total = (overtime*50000)+gaji_kontrak\n",
    "            gaji_net = gaji_total-(gaji_total*pajak)\n",
    "            print(f\"total gaji karyawan tersebut adalah {gaji_net}\")\n",
    "        elif overtime > 20:\n",
    "            gaji_total = (20*50000)+gaji_kontrak\n",
    "            gaji_net = gaji_total-(gaji_total*pajak)\n",
    "            print(f\"total gaji karyawan tersebut adalah {gaji_net}\")                   \n",
    "        else :\n",
    "            gaji_total = gaji_kontrak\n",
    "            gaji_net = gaji_total-(gaji_total*pajak)\n",
    "            print(f\"total gaji karyawan tersebut adalah {gaji_net}\")\n",
    "    else :\n",
    "        print(\"Kategori yang anda masukkan salah.\")        \n",
    "    \n",
    "penghasilan(\"tetap\", 10)    \n",
    "penghasilan(\"kontrak\", 10)    "
   ]
  },
  {
   "cell_type": "code",
   "execution_count": 14,
   "metadata": {},
   "outputs": [
    {
     "name": "stdout",
     "output_type": "stream",
     "text": [
      "[-5, -9, -4, 10, 3, 3, 9, 9, 9, -4, 5, 5, 4, -2, -2, 4, 9, -3, -1, 5, -7, 4, -8, -3, -5, 1, 8, 8, 6, -2, -6, 7, 10, 7, -2, -7, -9, 0, 9, 10, 4, -6, -2, 7, 8, 1, -9, -3, -4, -7, -10, -10, -8, -8, 6, -4, 6, 10, 7, 5, -6, 5, -2, 5, 9, -10, 4, 5, 0, 1, -10, 5, -3, 0, 0, -4, -6, 4, -1, 6, 9, 0, -2, 9, 5, 0, -2, 5, 1, 4, 6, 1, -5, 6, -8, -7, 0, 5, 5, -10]\n",
      "Rasio bilangan positif adalah 0.51\n",
      "Rasio bilangan negatif adalah 0.42\n",
      "Rasio bilangan nol adalah 0.07\n"
     ]
    }
   ],
   "source": [
    "#membuat list\n",
    "import random\n",
    " \n",
    "list_angka=[]\n",
    "n=100\n",
    "for i in range(n):\n",
    "    list_angka.append(random.randint(-10,10))\n",
    "\n",
    "#tampilkan list\n",
    "print(list_angka)\n",
    "\n",
    "#fungsi perhitungan ratio\n",
    "def ratio():\n",
    "    nilai = list_angka\n",
    "    total_count = len(nilai)\n",
    "    positif_ratio = 0\n",
    "    negatif_ratio = 0\n",
    "    zero_ratio = 0\n",
    "\n",
    "    for i in nilai:\n",
    "        if i > 0:\n",
    "            positif_ratio += 1\n",
    "        elif i < 0:\n",
    "            negatif_ratio += 1\n",
    "        else:\n",
    "            zero_ratio += 1\n",
    "\n",
    "    positif_ratio = positif_ratio / total_count\n",
    "    negatif_ratio = negatif_ratio / total_count\n",
    "    zero_ratio = zero_ratio / total_count\n",
    "\n",
    "    print(f\"Rasio bilangan positif adalah {positif_ratio}\")\n",
    "    print(f\"Rasio bilangan negatif adalah {negatif_ratio}\")\n",
    "    print(f\"Rasio bilangan nol adalah {zero_ratio}\")\n",
    "\n",
    "ratio()\n"
   ]
  },
  {
   "cell_type": "code",
   "execution_count": 4,
   "metadata": {},
   "outputs": [
    {
     "name": "stdout",
     "output_type": "stream",
     "text": [
      "Total harga setelah diskon: Rp1620000.0\n"
     ]
    }
   ],
   "source": [
    "def hitung_harga_diskon(*harga_produk):\n",
    "    total_harga = sum(harga_produk)\n",
    "    diskon = total_harga * 0.40\n",
    "    harga_setelah_diskon = total_harga - diskon\n",
    "    return harga_setelah_diskon\n",
    "\n",
    "# Contoh penggunaan\n",
    "harga_yang_dibeli = [200000, 300000, 400000, 500000, 600000, 700000] # misalnya pelanggan membeli produk dengan harga ini\n",
    "total_harga_setelah_diskon = hitung_harga_diskon(*harga_yang_dibeli)\n",
    "print(f\"Total harga setelah diskon: Rp{total_harga_setelah_diskon}\")\n"
   ]
  },
  {
   "cell_type": "code",
   "execution_count": 5,
   "metadata": {},
   "outputs": [
    {
     "data": {
      "text/plain": [
       "600000"
      ]
     },
     "execution_count": 5,
     "metadata": {},
     "output_type": "execute_result"
    }
   ],
   "source": [
    "hpp = lambda beli_bersih,stok_awal,stok_akhir : beli_bersih + stok_awal - stok_akhir\n",
    "hpp(500000,300000,200000)"
   ]
  },
  {
   "cell_type": "code",
   "execution_count": 6,
   "metadata": {},
   "outputs": [
    {
     "name": "stdout",
     "output_type": "stream",
     "text": [
      "Nama: Andi, Asal Kota: Jakarta\n",
      "Nama: Budi, Asal Kota: Bandung\n",
      "Nama: Chika, Asal Kota: Surabaya\n",
      "Nama: Deni, Asal Kota: Yogyakarta\n"
     ]
    }
   ],
   "source": [
    "def tampilkan_pegawai(**kwargs):\n",
    "    for nama, kota in kwargs.items():\n",
    "        print(f\"Nama: {nama}, Asal Kota: {kota}\")\n",
    "\n",
    "# Contoh penggunaan\n",
    "tampilkan_pegawai(\n",
    "    Andi=\"Jakarta\",\n",
    "    Budi=\"Bandung\",\n",
    "    Chika=\"Surabaya\",\n",
    "    Deni=\"Yogyakarta\"\n",
    ")"
   ]
  },
  {
   "cell_type": "code",
   "execution_count": 9,
   "metadata": {},
   "outputs": [
    {
     "name": "stdout",
     "output_type": "stream",
     "text": [
      "Angsuran perbulan yang wajib dibayarkan Rp.916666\n"
     ]
    }
   ],
   "source": [
    "#modul perhitungan_angsuran_per_bulan_klien.py\n",
    "\n",
    "#fungsi bunga anuitas\n",
    "def bunga_anuitas(pinjaman, bunga):\n",
    "    hari = 30\n",
    "    tabungan = pinjaman * bunga * hari\n",
    "    return tabungan\n",
    "\n",
    "#fungsi bunga flat\n",
    "def bunga_flat(pinjaman, bunga):\n",
    "    suku_bunga = bunga/100\n",
    "    bunga_pertahun = pinjaman*suku_bunga\n",
    "    bunga_pebulan = bunga_pertahun/12\n",
    "    pokok_pinjaman = pinjaman/12\n",
    "    angsuran = print(f\"Angsuran perbulan yang wajib dibayarkan Rp.{int(pokok_pinjaman + bunga_pebulan)}\")\n",
    "    return angsuran\n",
    "\n",
    "bunga_flat(10000000,10)"
   ]
  },
  {
   "cell_type": "code",
   "execution_count": 17,
   "metadata": {},
   "outputs": [
    {
     "name": "stdout",
     "output_type": "stream",
     "text": [
      "Keuntungan: 18000000\n",
      "Harga Pokok Penjualan: 36100\n"
     ]
    }
   ],
   "source": [
    "# file utama\n",
    "info_barang = { \n",
    "    \"biaya_produksi\": 35000,\n",
    "    \"harga_jual\": 50000,\n",
    "    \"jumlah_produk\": 1200,\n",
    "    \"persediaan_sisa\": 100 \n",
    "}\n",
    "\n",
    "# fungsi keuntungan penjualan\n",
    "def keuntungan(info_barang):\n",
    "    untung = (info_barang[\"jumlah_produk\"] * info_barang[\"harga_jual\"]) - (info_barang[\"jumlah_produk\"] * info_barang[\"biaya_produksi\"])\n",
    "    return f\"Keuntungan: {untung}\"\n",
    "\n",
    "# fungsi harga pokok penjualan\n",
    "def harga_pokok(info_barang):\n",
    "    hpp = info_barang[\"biaya_produksi\"] + (info_barang[\"jumlah_produk\"] - info_barang[\"persediaan_sisa\"])\n",
    "    return f\"Harga Pokok Penjualan: {hpp}\"\n",
    "\n",
    "# memanggil fungsi\n",
    "print(keuntungan(info_barang))\n",
    "print(harga_pokok(info_barang))\n"
   ]
  }
 ],
 "metadata": {
  "kernelspec": {
   "display_name": "Python 3",
   "language": "python",
   "name": "python3"
  },
  "language_info": {
   "codemirror_mode": {
    "name": "ipython",
    "version": 3
   },
   "file_extension": ".py",
   "mimetype": "text/x-python",
   "name": "python",
   "nbconvert_exporter": "python",
   "pygments_lexer": "ipython3",
   "version": "3.11.1"
  }
 },
 "nbformat": 4,
 "nbformat_minor": 2
}
