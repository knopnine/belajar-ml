{
 "cells": [
  {
   "cell_type": "code",
   "execution_count": 22,
   "metadata": {},
   "outputs": [],
   "source": [
    "#create Kucing class\n",
    "class Kucing:\n",
    "    jenis = \"mamalia\"\n",
    "    kaki = 4\n",
    "    suara = \"meow\"\n",
    "    def __init__(self,nama,warna,ras,usia):\n",
    "        self.nama = nama\n",
    "        self.warna = warna\n",
    "        self.ras = ras\n",
    "        self.usia = usia"
   ]
  },
  {
   "cell_type": "code",
   "execution_count": 28,
   "metadata": {},
   "outputs": [
    {
     "name": "stdout",
     "output_type": "stream",
     "text": [
      "meow\n",
      "Dilan\n"
     ]
    }
   ],
   "source": [
    "kucing_aing = Kucing(\"Dilan\", \"Beige\", \"Turki\", 20)\n",
    "print(kucing_aing.suara)\n",
    "print(kucing_aing.nama)"
   ]
  },
  {
   "cell_type": "code",
   "execution_count": 2,
   "metadata": {},
   "outputs": [],
   "source": [
    "#create Mobil class\n",
    "class Mobil:\n",
    "    def __init__(self,merk,mesin):\n",
    "        self.merk = merk\n",
    "        self.mesin = mesin"
   ]
  },
  {
   "cell_type": "code",
   "execution_count": 8,
   "metadata": {},
   "outputs": [],
   "source": [
    "#create Segitiga class:\n",
    "class Segitiga:\n",
    "    def __init__(self,alas,tinggi,tipe):\n",
    "        self.alas = alas\n",
    "        self.tinggi = tinggi\n",
    "        self.tipe = tipe\n",
    "        self.luas = 0.5 * alas * tinggi"
   ]
  },
  {
   "cell_type": "code",
   "execution_count": 6,
   "metadata": {},
   "outputs": [
    {
     "data": {
      "text/plain": [
       "'2'"
      ]
     },
     "execution_count": 6,
     "metadata": {},
     "output_type": "execute_result"
    }
   ],
   "source": [
    "#testing class\n",
    "kucing_kampung = Kucing(\"Kampung\",\"Orange\",\"2\")\n",
    "type(kucing_kampung)\n",
    "\n",
    "kucing_kampung.nama\n",
    "kucing_kampung.warna\n",
    "kucing_kampung.usia"
   ]
  },
  {
   "cell_type": "code",
   "execution_count": 12,
   "metadata": {},
   "outputs": [],
   "source": [
    "#testing class 2\n",
    "segitiga_1 = Segitiga(alas=2, tinggi=3, tipe=\"sama kaki\")\n",
    "segitiga_2 = Segitiga(alas=3, tinggi=3, tipe=\"siku\")"
   ]
  },
  {
   "cell_type": "code",
   "execution_count": 13,
   "metadata": {},
   "outputs": [
    {
     "data": {
      "text/plain": [
       "3.0"
      ]
     },
     "execution_count": 13,
     "metadata": {},
     "output_type": "execute_result"
    }
   ],
   "source": [
    "segitiga_1.luas"
   ]
  },
  {
   "cell_type": "code",
   "execution_count": 14,
   "metadata": {},
   "outputs": [
    {
     "data": {
      "text/plain": [
       "4.5"
      ]
     },
     "execution_count": 14,
     "metadata": {},
     "output_type": "execute_result"
    }
   ],
   "source": [
    "segitiga_2.luas"
   ]
  },
  {
   "cell_type": "code",
   "execution_count": 45,
   "metadata": {},
   "outputs": [],
   "source": [
    "#class persegi panjang\n",
    "class PersegiPanjang:\n",
    "    def __init__(self,panjang,lebar):\n",
    "        self.panjang = panjang\n",
    "        self.lebar = lebar\n",
    "\n",
    "    def luas(self):\n",
    "        luas = self.panjang * self.lebar\n",
    "        return luas\n",
    "    \n",
    "    def keliling(self):\n",
    "        keliling = (self.panjang*2) + (self.lebar*2)\n",
    "        return keliling\n",
    "\n",
    "\n",
    "persegi1 = PersegiPanjang(4,3)  \n",
    "persegi2 = PersegiPanjang(4,9)    "
   ]
  },
  {
   "cell_type": "code",
   "execution_count": 46,
   "metadata": {},
   "outputs": [
    {
     "name": "stdout",
     "output_type": "stream",
     "text": [
      "12\n",
      "14\n"
     ]
    }
   ],
   "source": [
    "print(persegi1.luas())\n",
    "print(persegi1.keliling())"
   ]
  },
  {
   "cell_type": "code",
   "execution_count": 43,
   "metadata": {},
   "outputs": [
    {
     "data": {
      "text/plain": [
       "36"
      ]
     },
     "execution_count": 43,
     "metadata": {},
     "output_type": "execute_result"
    }
   ],
   "source": [
    "persegi2.luas()"
   ]
  },
  {
   "cell_type": "code",
   "execution_count": 29,
   "metadata": {},
   "outputs": [],
   "source": [
    "class Lingkaran:\n",
    "    PHI = 3.14\n",
    "    def __init__(self, radius):\n",
    "        self.radius = radius\n",
    "        self.diameter = 2*radius\n",
    "\n",
    "    def keliling(self):\n",
    "        keliling = self.PHI * self.diameter\n",
    "        return keliling\n",
    "    \n",
    "    def luas(self):\n",
    "        luas = self.PHI * self.radius ** 2\n",
    "        return luas"
   ]
  },
  {
   "cell_type": "code",
   "execution_count": 36,
   "metadata": {},
   "outputs": [
    {
     "name": "stdout",
     "output_type": "stream",
     "text": [
      "Luasnya adalah 20096.0\n",
      "Kelilingnya adalah 502.40000000000003\n"
     ]
    }
   ],
   "source": [
    "rad = int(input(\"masukan radius :\"))\n",
    "lingkaran_1 = Lingkaran(rad)\n",
    "\n",
    "# menggunakan method untuk mencari luas lingkaran\n",
    "print(f\"Luasnya adalah {lingkaran_1.luas()}\")\n",
    "\n",
    "# menggunakan method untuk mencari keliling lingkaran\n",
    "print(f\"Kelilingnya adalah {lingkaran_1.keliling()}\")"
   ]
  },
  {
   "cell_type": "code",
   "execution_count": 38,
   "metadata": {},
   "outputs": [],
   "source": [
    "class List_Angka:\n",
    "    def __init__(self, number_list):\n",
    "        self.number_list = number_list\n",
    "        \n",
    "    def filter_even_number(self):\n",
    "        even = []\n",
    "        for num in self.number_list:\n",
    "            if num % 2 == 0:\n",
    "                even.append(num)                \n",
    "        return even\n",
    "    \n",
    "    def filter_odd_number(self):\n",
    "        odd = []\n",
    "        for num in self.number_list:\n",
    "            if num % 2 != 0:\n",
    "                odd.append(num)\n",
    "        return odd        "
   ]
  },
  {
   "cell_type": "code",
   "execution_count": 40,
   "metadata": {},
   "outputs": [
    {
     "data": {
      "text/plain": [
       "[2, 4]"
      ]
     },
     "execution_count": 40,
     "metadata": {},
     "output_type": "execute_result"
    }
   ],
   "source": [
    "angka = List_Angka([1,2,3,4,5])\n",
    "angka.filter_even_number()"
   ]
  },
  {
   "cell_type": "code",
   "execution_count": 41,
   "metadata": {},
   "outputs": [
    {
     "data": {
      "text/plain": [
       "[1, 3, 5]"
      ]
     },
     "execution_count": 41,
     "metadata": {},
     "output_type": "execute_result"
    }
   ],
   "source": [
    "angka.filter_odd_number()"
   ]
  },
  {
   "cell_type": "code",
   "execution_count": 49,
   "metadata": {},
   "outputs": [
    {
     "name": "stdout",
     "output_type": "stream",
     "text": [
      "240 80\n"
     ]
    }
   ],
   "source": [
    "#buat kelas Mobil\n",
    "class Mobil:   \n",
    "#berikan atribut instance kecepatan dan jarak\n",
    "    def __init__(self,kecepatan,jarak):\n",
    "        self.kecepatan = kecepatan\n",
    "        self.jarak = jarak\n",
    "\n",
    "tesla = Mobil(240, 80)\n",
    "print(tesla.kecepatan, tesla.jarak)"
   ]
  },
  {
   "cell_type": "code",
   "execution_count": 50,
   "metadata": {},
   "outputs": [
    {
     "name": "stdout",
     "output_type": "stream",
     "text": [
      "Jumlah Belanja: \n",
      " Roti = 3\n",
      " Soda = 5\n",
      " Selai = 2\n"
     ]
    }
   ],
   "source": [
    "#buat class Belanja\n",
    "class Belanja:\n",
    "    Roti = 3\n",
    "    Soda = 5\n",
    "    Selai = 2\n",
    "    #buat method jumlah_belanja dengan output nama barang dan jumlah barang berdasarkan\n",
    "    #attribute kelas\n",
    "    def jumlah_belanja(self):\n",
    "        print(f'Jumlah Belanja: \\n Roti = {Belanja.Roti}\\n Soda = {Belanja.Soda}\\n Selai = {Belanja.Selai}')\n",
    "\n",
    "##Proses pemanggilan fungsi\n",
    "user2 = Belanja()\n",
    "user2.jumlah_belanja()"
   ]
  },
  {
   "cell_type": "code",
   "execution_count": 51,
   "metadata": {},
   "outputs": [
    {
     "name": "stdout",
     "output_type": "stream",
     "text": [
      "Daftar Harga: \n",
      " Pensil = 2000 \n",
      " Pulpen = 3000 \n",
      " Penghapus = 1000\n"
     ]
    }
   ],
   "source": [
    "#buat class AlatTulis\n",
    "class AlatTulis:\n",
    "    Pensil = 2000\n",
    "    Pulpen = 3000\n",
    "    Penghapus = 1000\n",
    "    #buat method TotalHarga dengan output nama dan harga\n",
    "    def TotalHarga(self):\n",
    "        print(f'Daftar Harga: \\n Pensil = {AlatTulis.Pensil} \\n Pulpen = {AlatTulis.Pulpen} \\n Penghapus = {AlatTulis.Penghapus}')\n",
    "Penghapus = 1000\n",
    "\n",
    "##Proses pemanggilan fungsi\n",
    "user3 = AlatTulis()\n",
    "user3.TotalHarga()"
   ]
  },
  {
   "cell_type": "code",
   "execution_count": 53,
   "metadata": {},
   "outputs": [
    {
     "name": "stdout",
     "output_type": "stream",
     "text": [
      "Albar Ghiffar\n",
      "albar.ghiffar@datacamp.com\n"
     ]
    }
   ],
   "source": [
    "class Pekerja:\n",
    "    def __init__(self, nama_depan, nama_belakang):\n",
    "        self.nama_depan = nama_depan\n",
    "        self.nama_belakang = nama_belakang\n",
    "        self.nama_lengkap = f'{nama_depan} {nama_belakang}'\n",
    "        self.email = f'{nama_depan.lower()}.{nama_belakang.lower()}@datacamp.com'\n",
    "\n",
    "pekerja1 = Pekerja('Albar','Ghiffar')\n",
    "print(pekerja1.nama_lengkap)\n",
    "print(pekerja1.email)\n"
   ]
  },
  {
   "cell_type": "code",
   "execution_count": 58,
   "metadata": {},
   "outputs": [
    {
     "name": "stdout",
     "output_type": "stream",
     "text": [
      "Tamansari, Kota Tasikmalaya\n"
     ]
    }
   ],
   "source": [
    "class Pelanggan:\n",
    "    def __init__(self, kota, desa):\n",
    "        self.kota = kota\n",
    "        self.desa = desa\n",
    "        self.kotadesa = f'{desa}, {kota}'\n",
    "\n",
    "tamansari = Pelanggan('Kota Tasikmalaya','Tamansari')  \n",
    "print(tamansari.kotadesa)"
   ]
  },
  {
   "cell_type": "code",
   "execution_count": 68,
   "metadata": {},
   "outputs": [
    {
     "name": "stdout",
     "output_type": "stream",
     "text": [
      "Nomor Akun : 2303456 \n",
      "Nama Pemilik : Kala \n",
      "Saldo Akun : Rp. 5000000.0\n"
     ]
    }
   ],
   "source": [
    "class BankAccount:\n",
    "    def __init__(self, nomor_akun, nama_akun, saldo):\n",
    "        self.nomor_akun = nomor_akun\n",
    "        self.nama_akun = nama_akun\n",
    "        self.saldo = float(saldo)\n",
    "\n",
    "    def setor_tunai(self, uang):\n",
    "        self.saldo = self.saldo + uang\n",
    "\n",
    "    def tarik_tunai(self, uang):\n",
    "        self.saldo = self.saldo - uang     \n",
    "\n",
    "    def display(self):\n",
    "        print(f'Nomor Akun : {self.nomor_akun} \\nNama Pemilik : {self.nama_akun} \\nSaldo Akun : Rp. {self.saldo}')\n",
    "\n",
    "      \n",
    "\n",
    "kala = BankAccount(2303456,'Kala', 5000000)       \n",
    "kala.display()"
   ]
  },
  {
   "cell_type": "code",
   "execution_count": 69,
   "metadata": {},
   "outputs": [
    {
     "name": "stdout",
     "output_type": "stream",
     "text": [
      "Nomor Akun : 2303456 \n",
      "Nama Pemilik : Kala \n",
      "Saldo Akun : Rp. 10400000.0\n"
     ]
    }
   ],
   "source": [
    "kala.setor_tunai(5400000)\n",
    "kala.display()"
   ]
  },
  {
   "cell_type": "code",
   "execution_count": 70,
   "metadata": {},
   "outputs": [
    {
     "name": "stdout",
     "output_type": "stream",
     "text": [
      "Nomor Akun : 2303456 \n",
      "Nama Pemilik : Kala \n",
      "Saldo Akun : Rp. 8000000.0\n"
     ]
    }
   ],
   "source": [
    "kala.tarik_tunai(2400000)\n",
    "kala.display()"
   ]
  },
  {
   "cell_type": "markdown",
   "metadata": {},
   "source": [
    "**Inheritance**"
   ]
  },
  {
   "cell_type": "code",
   "execution_count": 3,
   "metadata": {},
   "outputs": [],
   "source": [
    "# Parent Class\n",
    "class Binatang():\n",
    "    def __init__(self,nama,umur):\n",
    "        self.nama = nama\n",
    "        self.umur = umur\n"
   ]
  },
  {
   "cell_type": "code",
   "execution_count": 4,
   "metadata": {},
   "outputs": [],
   "source": [
    "# Child Class\n",
    "class Anjing(Binatang):    # Child class (subclass) of Binatang\n",
    "    pass\n",
    "\n",
    "# Child Class\n",
    "class Kucing(Binatang):    # Child class (subclass) of Binatang\n",
    "    pass        "
   ]
  },
  {
   "cell_type": "code",
   "execution_count": 5,
   "metadata": {},
   "outputs": [
    {
     "data": {
      "text/plain": [
       "'Pumpkin Pie'"
      ]
     },
     "execution_count": 5,
     "metadata": {},
     "output_type": "execute_result"
    }
   ],
   "source": [
    "# jalankan code di bawah ini\n",
    "instance_hewan = Anjing(\"Pumpkin Pie\",4)\n",
    "instance_hewan.nama"
   ]
  },
  {
   "cell_type": "code",
   "execution_count": 6,
   "metadata": {},
   "outputs": [],
   "source": [
    "# child class of Anjing\n",
    "class Bulldog(Anjing):\n",
    "    pass"
   ]
  },
  {
   "cell_type": "code",
   "execution_count": 7,
   "metadata": {},
   "outputs": [
    {
     "data": {
      "text/plain": [
       "'rambo'"
      ]
     },
     "execution_count": 7,
     "metadata": {},
     "output_type": "execute_result"
    }
   ],
   "source": [
    "instance_hewan_2 = Bulldog(\"rambo\",9)\n",
    "instance_hewan_2.nama"
   ]
  },
  {
   "cell_type": "code",
   "execution_count": 8,
   "metadata": {},
   "outputs": [],
   "source": [
    "# Class Manusia\n",
    "class Manusia:\n",
    "    def __init__(self, ID, nama):\n",
    "        self.ID = ID\n",
    "        self.nama = nama"
   ]
  },
  {
   "cell_type": "code",
   "execution_count": 12,
   "metadata": {},
   "outputs": [
    {
     "name": "stdout",
     "output_type": "stream",
     "text": [
      "200175 Arif\n"
     ]
    }
   ],
   "source": [
    "# Class Guru\n",
    "# isi titik - titik di bawah ini\n",
    "\n",
    "class Guru(Manusia):\n",
    "    pass\n",
    "\n",
    "# Buatlah objek atau instance guru1 dan sesuaikan dengan perintah di atas\n",
    "# isi titik - titik di bawah ini\n",
    "\n",
    "guru1 = Guru(200175,\"Arif\")\n",
    "print(guru1.ID,guru1.nama)"
   ]
  },
  {
   "cell_type": "code",
   "execution_count": 14,
   "metadata": {},
   "outputs": [],
   "source": [
    "# Parent Class\n",
    "class Binatang():    \n",
    "    def __init__(self,nama):\n",
    "        self.nama = nama\n",
    "        \n",
    "    def __str__(self):\n",
    "        return \"Animal:\"+self.nama"
   ]
  },
  {
   "cell_type": "code",
   "execution_count": 15,
   "metadata": {},
   "outputs": [],
   "source": [
    "class Kucing(Binatang):\n",
    "    def __init__(self, nama, umur):\n",
    "        Binatang.__init__(self, nama)    # Menggunakan nama kelas, ada atribut self yang diberikan ke parent\n",
    "        self.umur = umur    # atribut baru"
   ]
  },
  {
   "cell_type": "code",
   "execution_count": 16,
   "metadata": {},
   "outputs": [
    {
     "name": "stdout",
     "output_type": "stream",
     "text": [
      "3\n"
     ]
    }
   ],
   "source": [
    "hewan1 = Kucing(\"miu\",3)\n",
    "print(hewan1.umur)"
   ]
  },
  {
   "cell_type": "code",
   "execution_count": 17,
   "metadata": {},
   "outputs": [
    {
     "data": {
      "text/plain": [
       "2040"
      ]
     },
     "execution_count": 17,
     "metadata": {},
     "output_type": "execute_result"
    }
   ],
   "source": [
    "# Class Manusia using Super\n",
    "class Manusia:\n",
    "    def __init__(self, ID, nama):\n",
    "        self.ID = ID\n",
    "        self.nama = nama\n",
    "\n",
    "\n",
    "class Guru(Manusia):\n",
    "    def __init__(self,ID, nama, tahun_pensiun):\n",
    "        super().__init__(ID, nama )\n",
    "        self.tahun_pensiun = tahun_pensiun\n",
    "\n",
    "guru2 = Guru(200176,\"Sri\",2040)      \n",
    "guru2.tahun_pensiun         "
   ]
  },
  {
   "cell_type": "code",
   "execution_count": 18,
   "metadata": {},
   "outputs": [],
   "source": [
    "class Binatang:\n",
    "    def __init__(self, nama):\n",
    "        self.nama = nama\n",
    "    \n",
    "    def __str__(self):\n",
    "        return \"Animal:\"+self.nama\n",
    "        \n",
    "    def jalan(self):\n",
    "        print(f\"{self.nama} sedang berjalan.\")"
   ]
  },
  {
   "cell_type": "code",
   "execution_count": 19,
   "metadata": {},
   "outputs": [],
   "source": [
    "class Sapi(Binatang):\n",
    "    def suara(self):\n",
    "        print(\"Mooooooo\")"
   ]
  },
  {
   "cell_type": "code",
   "execution_count": 20,
   "metadata": {},
   "outputs": [
    {
     "name": "stdout",
     "output_type": "stream",
     "text": [
      "Mooooooo\n"
     ]
    }
   ],
   "source": [
    "hewan5 = Sapi(\"Sapi'i\")\n",
    "hewan5.suara()"
   ]
  },
  {
   "cell_type": "code",
   "execution_count": 21,
   "metadata": {},
   "outputs": [],
   "source": [
    "class Ikan(Binatang):\n",
    "    def __init__(self,nama,umur):\n",
    "        Binatang.__init__(self,nama)\n",
    "    \n",
    "    def jalan(self):\n",
    "        print(f\"{self.nama} sedang berenang, ikan nggak bisa jalan.\")"
   ]
  },
  {
   "cell_type": "code",
   "execution_count": 22,
   "metadata": {},
   "outputs": [
    {
     "name": "stdout",
     "output_type": "stream",
     "text": [
      "Joni sedang berenang, ikan nggak bisa jalan.\n"
     ]
    }
   ],
   "source": [
    "ikan1 = Ikan('Joni',2)\n",
    "ikan1.jalan()"
   ]
  },
  {
   "cell_type": "code",
   "execution_count": 23,
   "metadata": {},
   "outputs": [],
   "source": [
    "# Parent Class Manusia\n",
    "class Manusia:\n",
    "    def __init__(self, ID, nama):\n",
    "        self.ID = ID\n",
    "        self.nama = nama\n",
    "\n"
   ]
  },
  {
   "cell_type": "code",
   "execution_count": 32,
   "metadata": {},
   "outputs": [],
   "source": [
    "# pembuatan child class Guru\n",
    "class Guru(Manusia):\n",
    "    def __init__(self, ID, nama, tahun_pensiun):\n",
    "        super().__init__(ID, nama)\n",
    "        self.tahun_pensiun = tahun_pensiun\n",
    "\n",
    "    def pensiun(self):\n",
    "        print(f\"Selamat jalan kepada guru No. {self.ID}; {self.nama}, sebagai pensiunan tahun {self.tahun_pensiun}\")\n",
    "    "
   ]
  },
  {
   "cell_type": "code",
   "execution_count": 33,
   "metadata": {},
   "outputs": [
    {
     "name": "stdout",
     "output_type": "stream",
     "text": [
      "Selamat jalan kepada guru No. 200175; Arif, sebagai pensiunan tahun 2023\n",
      "Selamat jalan kepada guru No. 200176; Sri, sebagai pensiunan tahun 2040\n"
     ]
    }
   ],
   "source": [
    "guru1 = Guru(200175, \"Arif\",2023)\n",
    "guru2 = Guru(200176, \"Sri\", 2040)\n",
    "\n",
    "guru1.pensiun()\n",
    "guru2.pensiun()"
   ]
  },
  {
   "cell_type": "markdown",
   "metadata": {},
   "source": [
    "# Live Class"
   ]
  },
  {
   "cell_type": "code",
   "execution_count": 36,
   "metadata": {},
   "outputs": [],
   "source": [
    "# buat kelas Jets\n",
    "class Jet:\n",
    "    # buat atribut asal dan nama\n",
    "    def __init__(self, asal, nama):\n",
    "        self.asal = asal\n",
    "        self.nama = nama\n",
    "\n",
    "# buat child class AJS37 dan inherit dari parent class Jets\n",
    "class AJS37(Jet):\n",
    "   def __init__(self, asal, nama):\n",
    "       super().__init__(asal, nama) \n"
   ]
  },
  {
   "cell_type": "code",
   "execution_count": 38,
   "metadata": {},
   "outputs": [
    {
     "name": "stdout",
     "output_type": "stream",
     "text": [
      "Pesawat asal Swedia memiliki kode pesawat AJS37\n"
     ]
    }
   ],
   "source": [
    "# buatlah instance untuk menampung kelas\n",
    "jet_1 = AJS37(\"Swedia\",\"AJS37\")\n",
    "\n",
    "# tampilkan hasil program\n",
    "print(f\"Pesawat asal {jet_1.asal} memiliki kode pesawat {jet_1.nama}\")"
   ]
  },
  {
   "cell_type": "code",
   "execution_count": 39,
   "metadata": {},
   "outputs": [
    {
     "name": "stdout",
     "output_type": "stream",
     "text": [
      "Pesawat asal Indonesia memiliki kode pesawat IDN17\n"
     ]
    }
   ],
   "source": [
    "class IDN17(Jet):\n",
    "   def __init__(self, asal, nama):\n",
    "       super().__init__(asal, nama) \n",
    "\n",
    "jet_2 = IDN17(\"Indonesia\", \"IDN17\")   \n",
    "print(f\"Pesawat asal {jet_2.asal} memiliki kode pesawat {jet_2.nama}\")   "
   ]
  },
  {
   "cell_type": "code",
   "execution_count": 41,
   "metadata": {},
   "outputs": [
    {
     "name": "stdout",
     "output_type": "stream",
     "text": [
      "Total pendapatan : 20000\n"
     ]
    }
   ],
   "source": [
    "#buat class Kendaraan\n",
    "class Kendaraan:\n",
    "    def __init__(self, kapasitas):\n",
    "        self.kapasitas = kapasitas\n",
    "\n",
    "#buat class child Mikrolet\n",
    "\n",
    "class Mikrolet(Kendaraan):\n",
    "    def __init__(self, kapasitas, tarif):\n",
    "        super().__init__(kapasitas)\n",
    "        self.tarif = tarif\n",
    "    \n",
    "    # buatlah method untuk mencari keuntungan\n",
    "    def pendapatan(self):\n",
    "        total = self.kapasitas * self.tarif\n",
    "        print(f\"Total pendapatan : {total}\")\n",
    "\n",
    "#buatlah instance\n",
    "mikrolet1 = Mikrolet(10, 2000)\n",
    "mikrolet1.pendapatan()"
   ]
  },
  {
   "cell_type": "code",
   "execution_count": 42,
   "metadata": {},
   "outputs": [
    {
     "name": "stdout",
     "output_type": "stream",
     "text": [
      "Total pendapatan : 165000.0\n"
     ]
    }
   ],
   "source": [
    "#buat class child Bus dan attribute kelas\n",
    "class Bus(Kendaraan):\n",
    "    def __init__(self, kapasitas, tarif):\n",
    "        super().__init__(kapasitas)\n",
    "        self.tarif = tarif\n",
    "    # buatlah method keuntungan untuk mencari keuntungan pendapatan\n",
    "    def pendapatan(self):\n",
    "        total_gross = self.kapasitas * self.tarif\n",
    "        maintenance = 0.1*total_gross\n",
    "        total_net = total_gross + maintenance\n",
    "        print(f\"Total pendapatan : {total_net}\")\n",
    "\n",
    "#buatlah instance\n",
    "bus1 = Bus(30,5000)\n",
    "bus1.pendapatan()"
   ]
  },
  {
   "cell_type": "code",
   "execution_count": 47,
   "metadata": {},
   "outputs": [
    {
     "name": "stdout",
     "output_type": "stream",
     "text": [
      "Nama :  Tom Delonge\n",
      "Umur :  30\n",
      "________________________\n",
      "Student Name :  Albar\n",
      "Student Age  :  28\n",
      "Peminatan :  Data Science\n",
      "________________________\n",
      "Albar masuk ke dalam kategori grup usia Produktif\n"
     ]
    }
   ],
   "source": [
    "# buat kelas Person\n",
    "class Person:\n",
    "    # buatlah attribute yang terdapat parameter nama dan umur\n",
    "    def __init__(self, nama, umur):\n",
    "        self.nama = nama\n",
    "        self.umur = umur\n",
    "\n",
    "    # buat method display untuk class Person\n",
    "    def display(self):\n",
    "        print(\"Nama : \", self.nama)\n",
    "        print(\"Umur : \", self.umur)\n",
    "        print(\"________________________\")\n",
    "\n",
    "\n",
    "# buat child class Student dari class Person\n",
    "class Student(Person):\n",
    "    \n",
    "\n",
    "    # definisikan attribute dari parent class dan buat attribute baru peminatan\n",
    "    def __init__(self, nama, umur, peminatan):\n",
    "        super().__init__(nama, umur)\n",
    "        self.peminatan = peminatan\n",
    "\n",
    "    def display(self):\n",
    "        print(\"Student Name : \", self.nama)\n",
    "        print(\"Student Age  : \", self.umur)\n",
    "        print(\"Peminatan : \", self.peminatan)\n",
    "        print(\"________________________\")\n",
    "\n",
    "    def filter_umur(self):\n",
    "        if self.umur >= 18 and self.umur <= 24:\n",
    "            print(f\"{self.nama} masuk ke dalam kategori grup usia Muda\")\n",
    "        elif self.umur >= 25 and self.umur <= 45:\n",
    "            print(f\"{self.nama} masuk ke dalam kategori grup usia Produktif\")\n",
    "        elif self.umur >= 46:\n",
    "            print(f\"{self.nama} masuk ke dalam kategori grup usia Lanjut Usia\")\n",
    "        else:\n",
    "            print(f\"{self.nama} masih terlalu muda untuk sekolah\")  \n",
    "\n",
    "\n",
    "# uji Person class\n",
    "orang1 = Person(\"Tom Delonge\",30)\n",
    "student1 = Student(\"Albar\", 28, \"Data Science\")\n",
    "\n",
    "# tampilkan hasil program\n",
    "orang1.display()\n",
    "student1.display()\n",
    "student1.filter_umur()"
   ]
  }
 ],
 "metadata": {
  "kernelspec": {
   "display_name": "Python 3",
   "language": "python",
   "name": "python3"
  },
  "language_info": {
   "codemirror_mode": {
    "name": "ipython",
    "version": 3
   },
   "file_extension": ".py",
   "mimetype": "text/x-python",
   "name": "python",
   "nbconvert_exporter": "python",
   "pygments_lexer": "ipython3",
   "version": "3.11.1"
  }
 },
 "nbformat": 4,
 "nbformat_minor": 2
}
