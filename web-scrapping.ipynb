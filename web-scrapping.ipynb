{
 "cells": [
  {
   "cell_type": "code",
   "execution_count": 4,
   "metadata": {},
   "outputs": [],
   "source": [
    "#import package\n",
    "import requests\n",
    "from bs4 import BeautifulSoup\n",
    "import pandas as pd"
   ]
  },
  {
   "cell_type": "code",
   "execution_count": 5,
   "metadata": {},
   "outputs": [],
   "source": [
    "#function to download the data\n",
    "def scrape_pokemon_data():\n",
    "    # URL of the Pokémon database\n",
    "    url = 'https://pokemondb.net/pokedex/all'\n",
    "    \n",
    "    # Send a GET request to the webpage\n",
    "    response = requests.get(url)\n",
    "    \n",
    "    # Parse the HTML content\n",
    "    soup = BeautifulSoup(response.text, 'html.parser')\n",
    "    \n",
    "    # Find the table with Pokémon data\n",
    "    table = soup.find('table', class_='data-table')\n",
    "    \n",
    "    # Extract table headers\n",
    "    headers = [header.text.strip() for header in table.find_all('th')]\n",
    "    \n",
    "    # Extract table rows\n",
    "    pokemon_data = []\n",
    "    for row in table.find_all('tr')[1:]:  # Skip the header row\n",
    "        cols = row.find_all('td')\n",
    "        pokemon_entry = [col.text.strip() for col in cols]\n",
    "        pokemon_data.append(pokemon_entry)\n",
    "    \n",
    "    # Create a DataFrame\n",
    "    df = pd.DataFrame(pokemon_data, columns=headers)\n",
    "    \n",
    "    # Save to JSON file\n",
    "    df.to_json('pokemon_data.json', orient='records', indent=2)\n",
    "    \n",
    "    print(\"Pokémon data has been saved to pokemon_data.json\")"
   ]
  },
  {
   "cell_type": "code",
   "execution_count": 6,
   "metadata": {},
   "outputs": [
    {
     "name": "stdout",
     "output_type": "stream",
     "text": [
      "Pokémon data has been saved to pokemon_data.json\n"
     ]
    }
   ],
   "source": [
    "scrape_pokemon_data()"
   ]
  }
 ],
 "metadata": {
  "kernelspec": {
   "display_name": "Python 3",
   "language": "python",
   "name": "python3"
  },
  "language_info": {
   "codemirror_mode": {
    "name": "ipython",
    "version": 3
   },
   "file_extension": ".py",
   "mimetype": "text/x-python",
   "name": "python",
   "nbconvert_exporter": "python",
   "pygments_lexer": "ipython3",
   "version": "3.11.1"
  }
 },
 "nbformat": 4,
 "nbformat_minor": 2
}
