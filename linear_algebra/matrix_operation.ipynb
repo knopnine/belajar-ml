{
 "cells": [
  {
   "cell_type": "markdown",
   "metadata": {},
   "source": [
    "## Function for matrix Operation"
   ]
  },
  {
   "cell_type": "markdown",
   "metadata": {},
   "source": [
    "Import Numpy"
   ]
  },
  {
   "cell_type": "code",
   "execution_count": 26,
   "metadata": {},
   "outputs": [],
   "source": [
    "import numpy as np"
   ]
  },
  {
   "cell_type": "markdown",
   "metadata": {},
   "source": [
    "Matrix Operation Function (Add, Substract, elementwise multiplication, elementwise division)"
   ]
  },
  {
   "cell_type": "code",
   "execution_count": 27,
   "metadata": {},
   "outputs": [],
   "source": [
    "\n",
    "\n",
    "def matrix_operation(matrix_a, matrix_b, operation):\n",
    "    # Check if the matrices have the same shape\n",
    "    if matrix_a.shape != matrix_b.shape:\n",
    "        raise ValueError(\"Matrices must have the same dimensions for this operation.\")\n",
    "    \n",
    "    # Perform the specified operation\n",
    "    if operation == 'add':\n",
    "        result = matrix_a + matrix_b\n",
    "    elif operation == 'subtract':\n",
    "        result = matrix_a - matrix_b\n",
    "    elif operation == 'elementwise_multiplication':\n",
    "        result = matrix_a * matrix_b   \n",
    "    elif operation == 'elementwise_division':\n",
    "        result = matrix_a / matrix_b               \n",
    "    else:\n",
    "        raise ValueError(\"Invalid operation. Please choose from 'add', 'subtract', 'elementwise_multiplication', or 'elementwise_division'.\")   \n",
    "    \n",
    "    return result\n"
   ]
  },
  {
   "cell_type": "markdown",
   "metadata": {},
   "source": [
    "Scalar Multiplication, Matrix Multiplication & Division, Matrix Power"
   ]
  },
  {
   "cell_type": "code",
   "execution_count": 28,
   "metadata": {},
   "outputs": [],
   "source": [
    "#multiplication & division\n",
    "def scalar_multiply(matrix, scalar):\n",
    "    return matrix * scalar\n",
    "\n",
    "def matrix_multiply(matrix_a, matrix_b):\n",
    "    if matrix_a.shape[1] != matrix_b.shape[0]:\n",
    "        raise ValueError(\"Matrices must have compatible dimensions for matrix multiplication.\")\n",
    "    return np.dot(matrix_a, matrix_b)\n",
    "\n",
    "def matris_division(matrix_a, matrix_b):\n",
    "    return np.linalg.solve(matrix_a, matrix_b)\n",
    "\n",
    "def matrix_power(matrix, power):\n",
    "    return np.linalg.matrix_power(matrix, power)"
   ]
  },
  {
   "cell_type": "markdown",
   "metadata": {},
   "source": [
    "Transpose Matrix"
   ]
  },
  {
   "cell_type": "code",
   "execution_count": 29,
   "metadata": {},
   "outputs": [],
   "source": [
    "#transpose\n",
    "def transpose_matrix(matrix):\n",
    "    return np.transpose(matrix)"
   ]
  },
  {
   "cell_type": "markdown",
   "metadata": {},
   "source": [
    "Eigenvalues & Eigenvector"
   ]
  },
  {
   "cell_type": "code",
   "execution_count": 30,
   "metadata": {},
   "outputs": [],
   "source": [
    "#finding eigenvalues and eigenvectors\n",
    "def eigenvalues_eigenvectors(matrix):\n",
    "    eigenvalues, eigenvectors = np.linalg.eig(matrix)\n",
    "    return { \"Eigenvalues\" : eigenvalues,\n",
    "             \"Eigenvector\" : eigenvectors\n",
    "    }"
   ]
  },
  {
   "cell_type": "markdown",
   "metadata": {},
   "source": [
    "Gaussian Elimination"
   ]
  },
  {
   "cell_type": "code",
   "execution_count": 31,
   "metadata": {},
   "outputs": [
    {
     "name": "stdout",
     "output_type": "stream",
     "text": [
      "Solution Set:\n",
      " [ 2.  3. -1.]\n"
     ]
    }
   ],
   "source": [
    "# simplifying matrix using gaussian elimination\n",
    "def gaussian_elimination(matrix):\n",
    "    n = len(matrix)\n",
    "    for i in range(n):\n",
    "        # Normalize the i-th row\n",
    "        matrix[i] = matrix[i] / matrix[i][i]\n",
    "        \n",
    "        # Eliminate the i-th column below the i-th row\n",
    "        for j in range(i + 1, n):\n",
    "            matrix[j] = matrix[j] - matrix[j][i] * matrix[i]\n",
    "    \n",
    "    # Back substitution\n",
    "    x = np.zeros(n)\n",
    "    for i in range(n - 1, -1, -1):\n",
    "        x[i] = matrix[i][-1] - np.sum(matrix[i][i + 1:n] * x[i + 1:n])\n",
    "    \n",
    "    return x\n",
    "\n",
    "# Example usage:\n",
    "matrix_f = np.array([[2, 1, -1, 8],\n",
    "                     [-3, -1, 2, -11],\n",
    "                     [-2, 1, 2, -3]], dtype=float)\n",
    "\n",
    "solution = gaussian_elimination(matrix_f)\n",
    "print(\"Solution Set:\\n\", solution)"
   ]
  },
  {
   "cell_type": "markdown",
   "metadata": {},
   "source": [
    "Matrix Determinant"
   ]
  },
  {
   "cell_type": "code",
   "execution_count": 32,
   "metadata": {},
   "outputs": [
    {
     "name": "stdout",
     "output_type": "stream",
     "text": [
      "Determinant of matrix_h:\n",
      " -2.0000000000000004\n",
      "Determinant of matrix_i:\n",
      " 22.000000000000004\n",
      "Determinant of matrix_j:\n",
      " 0.0\n",
      "Determinant of matrix_k:\n",
      " 270.0000000000003\n"
     ]
    }
   ],
   "source": [
    "#finding determinant\n",
    "def matrix_determinant(matrix):\n",
    "    return np.linalg.det(matrix)\n",
    "\n",
    "matrix_h = np.array([[1, 2],\n",
    "                     [3, 4]], dtype=float) # 2 x 2 matrix\n",
    "\n",
    "matrix_i = np.array([[1, 2, 3],\n",
    "                     [0, 4, 5],\n",
    "                     [1, 0, 6]], dtype=float) # 3 x 3 matrix\n",
    "\n",
    "matrix_j = np.array([[1, 2, 3, 4],\n",
    "                     [5, 6, 7, 8],\n",
    "                     [9, 10, 11, 12],\n",
    "                     [13, 14, 15, 16]], dtype=float) # 4 x 4 matrix\n",
    "\n",
    "matrix_k = np.array([[1, 2, 3, 0, 5],\n",
    "                     [0, 1, 4, 2, 0],\n",
    "                     [3, 0, 1, 1, 2],\n",
    "                     [4, 5, 0, 3, 1],\n",
    "                     [0, 2, 1, 0, 4]], dtype=float) # 5 x 5 matrix\n",
    "\n",
    "# Example usage:\n",
    "det_h = matrix_determinant(matrix_h)\n",
    "det_i = matrix_determinant(matrix_i)\n",
    "det_j = matrix_determinant(matrix_j)\n",
    "det_k = matrix_determinant(matrix_k)\n",
    "print(\"Determinant of matrix_h:\\n\", det_h)\n",
    "print(\"Determinant of matrix_i:\\n\", det_i)\n",
    "print(\"Determinant of matrix_j:\\n\", det_j)\n",
    "print(\"Determinant of matrix_k:\\n\", det_k)\n"
   ]
  },
  {
   "cell_type": "markdown",
   "metadata": {},
   "source": [
    "Inverse Matrix"
   ]
  },
  {
   "cell_type": "code",
   "execution_count": 33,
   "metadata": {},
   "outputs": [
    {
     "name": "stdout",
     "output_type": "stream",
     "text": [
      "Inverse of matrix_g:\n",
      " [[-0.5  1. ]\n",
      " [ 1.5 -2. ]]\n"
     ]
    }
   ],
   "source": [
    "#finding inverse\n",
    "def matrix_inverse(matrix):\n",
    "    return np.linalg.inv(matrix)\n",
    "\n",
    "matrix_g = np.array([[4, 2],\n",
    "                     [3, 1]], dtype=float)\n",
    "\n",
    "# Example usage:\n",
    "inverse_matrix_g = matrix_inverse(matrix_g)  # Use the entire matrix_g\n",
    "print(\"Inverse of matrix_g:\\n\", inverse_matrix_g)"
   ]
  },
  {
   "cell_type": "markdown",
   "metadata": {},
   "source": [
    "Covariance Matrix"
   ]
  },
  {
   "cell_type": "code",
   "execution_count": 34,
   "metadata": {},
   "outputs": [
    {
     "name": "stdout",
     "output_type": "stream",
     "text": [
      "Covariance Matrix:\n",
      " [[9. 9. 9.]\n",
      " [9. 9. 9.]\n",
      " [9. 9. 9.]]\n"
     ]
    }
   ],
   "source": [
    "#finding covariance matrix\n",
    "def covariance_matrix(matrix):\n",
    "    return np.cov(matrix, rowvar=False)\n",
    "\n",
    "# Example usage:\n",
    "matrix_example = np.array([[1, 2, 3],\n",
    "                           [4, 5, 6],\n",
    "                           [7, 8, 9]])\n",
    "\n",
    "cov_matrix = covariance_matrix(matrix_example)\n",
    "print(\"Covariance Matrix:\\n\", cov_matrix)"
   ]
  },
  {
   "cell_type": "markdown",
   "metadata": {},
   "source": [
    "Mean Vector from Matrix"
   ]
  },
  {
   "cell_type": "code",
   "execution_count": 35,
   "metadata": {},
   "outputs": [
    {
     "name": "stdout",
     "output_type": "stream",
     "text": [
      "Mean Matrix:\n",
      " [[4. 5. 6.]\n",
      " [4. 5. 6.]\n",
      " [4. 5. 6.]]\n"
     ]
    }
   ],
   "source": [
    "#finding mean vector\n",
    "def mean_vector(matrix):\n",
    "    mean_vec = np.mean(matrix, axis=0)\n",
    "    mean_matrix = np.tile(mean_vec, (matrix.shape[0], 1))\n",
    "    return mean_matrix\n",
    "\n",
    "# Example usage:\n",
    "mean_matrix = mean_vector(matrix_example)\n",
    "print(\"Mean Matrix:\\n\", mean_matrix)"
   ]
  },
  {
   "cell_type": "markdown",
   "metadata": {},
   "source": [
    "Centered Matrix"
   ]
  },
  {
   "cell_type": "code",
   "execution_count": 36,
   "metadata": {},
   "outputs": [
    {
     "name": "stdout",
     "output_type": "stream",
     "text": [
      "Centered Matrix:\n",
      " [[-3. -3. -3.]\n",
      " [ 0.  0.  0.]\n",
      " [ 3.  3.  3.]]\n"
     ]
    }
   ],
   "source": [
    "#centering matrix\n",
    "def get_centered_matrix(matrix):\n",
    "    mean_vec = mean_vector(matrix)\n",
    "    centered_matrix = matrix_operation(matrix, mean_vec, 'subtract')\n",
    "    return centered_matrix\n",
    "\n",
    "# Example usage:\n",
    "centered_matrix_example = get_centered_matrix(matrix_example)\n",
    "print(\"Centered Matrix:\\n\", centered_matrix_example)"
   ]
  },
  {
   "cell_type": "markdown",
   "metadata": {},
   "source": [
    "Weight Vector"
   ]
  },
  {
   "cell_type": "code",
   "execution_count": 37,
   "metadata": {},
   "outputs": [
    {
     "name": "stdout",
     "output_type": "stream",
     "text": [
      "Weight Vector:\n",
      " [[1.]\n",
      " [3.]]\n"
     ]
    }
   ],
   "source": [
    "#finding weight vector\n",
    "def weight_vector(X, y):\n",
    "    # Calculate the transpose of X\n",
    "    X_transpose = np.transpose(X)\n",
    "    \n",
    "    # Calculate the dot product of X_transpose and X\n",
    "    X_transpose_X = np.dot(X_transpose, X)\n",
    "    \n",
    "    # Calculate the inverse of X_transpose_X\n",
    "    X_transpose_X_inv = np.linalg.inv(X_transpose_X)\n",
    "    \n",
    "    # Calculate the dot product of X_transpose and y\n",
    "    X_transpose_y = np.dot(X_transpose, y)\n",
    "    \n",
    "    # Calculate the weight vector w\n",
    "    w = np.dot(X_transpose_X_inv, X_transpose_y)\n",
    "\n",
    "    return w\n",
    "\n",
    "# Example usage:\n",
    "X = np.array([[1, 2],\n",
    "              [3, 4],\n",
    "              [5, 6]])\n",
    "y = np.array([[7],\n",
    "              [15],\n",
    "              [23]])\n",
    "\n",
    "print(\"Weight Vector:\\n\", weight_vector(X, y))"
   ]
  },
  {
   "cell_type": "markdown",
   "metadata": {},
   "source": [
    "## Example Matrix Operation"
   ]
  },
  {
   "cell_type": "code",
   "execution_count": 38,
   "metadata": {},
   "outputs": [
    {
     "name": "stdout",
     "output_type": "stream",
     "text": [
      "Addition Result:\n",
      " [[ 2  5 11]\n",
      " [ 0  6 -4]]\n",
      "Subtraction Result:\n",
      " [[-2 -1  3]\n",
      " [-2  0 -6]]\n"
     ]
    }
   ],
   "source": [
    "# Example usage:\n",
    "matrix_a = np.array([[0, 2, 7], \n",
    "                     [-1, 3, -5]])\n",
    "matrix_b = np.array([[2, 3, 4], \n",
    "                     [1, 3, 1]])\n",
    "matrix_c = np.array([[1, 2], \n",
    "                     [5, 6]])\n",
    "\n",
    "op1 = matrix_operation(matrix_a, matrix_b, 'add')\n",
    "op2 = matrix_operation(matrix_a, matrix_b, 'subtract')\n",
    "#op3 = matrix_operation(matrix_a, matrix_c, 'add') #will resulted in error because matix have different shape\n",
    "\n",
    "print(\"Addition Result:\\n\", op1)\n",
    "print(\"Subtraction Result:\\n\", op2)\n",
    "#print(\"Addition Result:\\n\", op3)"
   ]
  },
  {
   "cell_type": "code",
   "execution_count": 39,
   "metadata": {},
   "outputs": [
    {
     "name": "stdout",
     "output_type": "stream",
     "text": [
      "Scalar Multiplication Result:\n",
      " [[  0   6  21]\n",
      " [ -3   9 -15]]\n"
     ]
    }
   ],
   "source": [
    "op4 = scalar_multiply(matrix_a, 3)\n",
    "print(\"Scalar Multiplication Result:\\n\", op4)"
   ]
  },
  {
   "cell_type": "code",
   "execution_count": 40,
   "metadata": {},
   "outputs": [
    {
     "name": "stdout",
     "output_type": "stream",
     "text": [
      "Matrix Multiplication Result with new matrix_e:\n",
      " [[ 57  66  75]\n",
      " [-24 -27 -30]]\n"
     ]
    }
   ],
   "source": [
    "# New matrix to test matrix_multiply function\n",
    "matrix_e = np.array([[1, 2, 3],\n",
    "                     [4, 5, 6],\n",
    "                     [7, 8, 9]])\n",
    "\n",
    "# Perform matrix multiplication\n",
    "op6 = matrix_multiply(matrix_a, matrix_e)\n",
    "print(\"Matrix Multiplication Result with new matrix_e:\\n\", op6)"
   ]
  },
  {
   "cell_type": "code",
   "execution_count": 41,
   "metadata": {},
   "outputs": [
    {
     "name": "stdout",
     "output_type": "stream",
     "text": [
      "Eigenvalues and Eigenvectors of matrix_d:\n",
      " {'Eigenvalues': array([3., 2.]), 'Eigenvector': array([[0.89442719, 0.70710678],\n",
      "       [0.4472136 , 0.70710678]])}\n"
     ]
    }
   ],
   "source": [
    "# New matrix to test eigenvalues_eigenvectors function\n",
    "matrix_d = np.array([[4, -2],\n",
    "                     [1,  1]])\n",
    "\n",
    "# Calculate eigenvalues and eigenvectors\n",
    "op7 = eigenvalues_eigenvectors(matrix_d)\n",
    "print(\"Eigenvalues and Eigenvectors of matrix_d:\\n\", op7)"
   ]
  },
  {
   "cell_type": "code",
   "execution_count": 42,
   "metadata": {},
   "outputs": [
    {
     "name": "stdout",
     "output_type": "stream",
     "text": [
      "Matrix Power Result:\n",
      " [[ 30  36  42]\n",
      " [ 66  81  96]\n",
      " [102 126 150]]\n"
     ]
    }
   ],
   "source": [
    "# calculate matrix power of matrix_e\n",
    "op8 = matrix_power(matrix_e, 2)\n",
    "print(\"Matrix Power Result:\\n\", op8)"
   ]
  },
  {
   "cell_type": "code",
   "execution_count": 43,
   "metadata": {},
   "outputs": [
    {
     "name": "stdout",
     "output_type": "stream",
     "text": [
      "Original Matrix:\n",
      " [[ 0  2  7]\n",
      " [-1  3 -5]]\n",
      "Transpose Matrix Result:\n",
      " [[ 0 -1]\n",
      " [ 2  3]\n",
      " [ 7 -5]]\n"
     ]
    }
   ],
   "source": [
    "# transpose matrix a\n",
    "op9 = transpose_matrix(matrix_a)\n",
    "print(\"Original Matrix:\\n\", matrix_a)\n",
    "print(\"Transpose Matrix Result:\\n\", op9)"
   ]
  },
  {
   "cell_type": "markdown",
   "metadata": {},
   "source": [
    "## Pincipal Component Analysis"
   ]
  },
  {
   "cell_type": "code",
   "execution_count": 44,
   "metadata": {},
   "outputs": [
    {
     "name": "stdout",
     "output_type": "stream",
     "text": [
      "Original Matrix:\n",
      " [[2 0]\n",
      " [0 2]\n",
      " [3 1]]\n",
      "Mean Vector:\n",
      " [[1.66666667 1.        ]\n",
      " [1.66666667 1.        ]\n",
      " [1.66666667 1.        ]]\n",
      "Centered Matrix:\n",
      " [[ 0.33333333 -1.        ]\n",
      " [-1.66666667  1.        ]\n",
      " [ 1.33333333  0.        ]]\n",
      "Transpose of Centered Matrix:\n",
      " [[ 0.33333333 -1.66666667  1.33333333]\n",
      " [-1.          1.          0.        ]]\n",
      "Matrix Multiplication Result:\n",
      " [[ 4.66666667 -2.        ]\n",
      " [-2.          2.        ]]\n",
      "Covariance Matrix:\n",
      " [[ 2.33333333 -1.        ]\n",
      " [-1.          1.        ]]\n",
      "Eigenvalues and Eigenvectors of matrix_x:\n",
      " {'Eigenvalues': array([2.86851709, 0.46481624]), 'Eigenvector': array([[ 0.8816746 ,  0.47185793],\n",
      "       [-0.47185793,  0.8816746 ]])}\n"
     ]
    }
   ],
   "source": [
    "#Principal Component Analysis (manually)\n",
    "matrix_x= np.array([[2, 0],\n",
    "                    [0, 2],\n",
    "                    [3, 1]])\n",
    "                    \n",
    "mean_x = mean_vector(matrix_x)\n",
    "centered_x= get_centered_matrix(matrix_x)\n",
    "centered_x_transpose = transpose_matrix(centered_x)\n",
    "centered_x_transpose_centered_x = matrix_multiply(centered_x_transpose, centered_x)\n",
    "covariance_x = covariance_matrix(matrix_x)\n",
    "\n",
    "print(\"Original Matrix:\\n\", matrix_x)\n",
    "print(\"Mean Vector:\\n\", mean_x)\n",
    "print(\"Centered Matrix:\\n\", centered_x)\n",
    "print(\"Transpose of Centered Matrix:\\n\", centered_x_transpose)\n",
    "print(\"Matrix Multiplication Result:\\n\", centered_x_transpose_centered_x)\n",
    "print(\"Covariance Matrix:\\n\", covariance_x)\n",
    "\n",
    "eigenvalue_x=eigenvalues_eigenvectors(covariance_x)\n",
    "print(\"Eigenvalues and Eigenvectors of matrix_x:\\n\", eigenvalue_x)"
   ]
  },
  {
   "cell_type": "code",
   "execution_count": 45,
   "metadata": {},
   "outputs": [
    {
     "name": "stdout",
     "output_type": "stream",
     "text": [
      "Original Matrix:\n",
      " [[2 0]\n",
      " [0 2]\n",
      " [3 1]] \n",
      "\n",
      "Mean Vector:\n",
      " [1.66666667 1.        ] \n",
      "\n",
      "Centered Matrix:\n",
      " [[ 0.33333333 -1.        ]\n",
      " [-1.66666667  1.        ]\n",
      " [ 1.33333333  0.        ]]\n",
      "Transpose of Centered Matrix:\n",
      " [[ 0.33333333 -1.66666667  1.33333333]\n",
      " [-1.          1.          0.        ]] \n",
      "\n",
      "Matrix Multiplication Result (X_centered^T * X_centered):\n",
      " [[ 4.66666667 -2.        ]\n",
      " [-2.          2.        ]] \n",
      "\n",
      "Covariance Matrix:\n",
      " [[ 2.33333333 -1.        ]\n",
      " [-1.          1.        ]] \n",
      "\n",
      "Eigenvalues:\n",
      " [2.86851709 0.46481624] \n",
      "\n",
      "Eigenvectors:\n",
      " [[ 0.8816746   0.47185793]\n",
      " [-0.47185793  0.8816746 ]] \n",
      "\n",
      "Transformed Matrix (X_transformed):\n",
      " [[ 0.76574946 -0.72438862]\n",
      " [-1.94131559  0.09524472]\n",
      " [ 1.17556613  0.6291439 ]] \n",
      "\n"
     ]
    }
   ],
   "source": [
    "#PCA function\n",
    "def pca(X):\n",
    "    # Step 1: Calculate the mean vector\n",
    "    mean_vec = np.mean(X, axis=0)\n",
    "    \n",
    "    # Step 2: Center the matrix X by subtracting the mean vector\n",
    "    X_centered = X - mean_vec\n",
    "    \n",
    "    # Step 3: Calculate the covariance matrix of the centered matrix\n",
    "    covariance_matrix = np.cov(X_centered, rowvar=False)\n",
    "    \n",
    "    # Step 4: Compute the eigenvalues and eigenvectors of the covariance matrix\n",
    "    eigenvalues, eigenvectors = np.linalg.eig(covariance_matrix)\n",
    "    \n",
    "    # Step 5: Transform the original matrix X using the eigenvectors\n",
    "    X_transformed = np.dot(X_centered, eigenvectors)\n",
    "    \n",
    "    return {\n",
    "        \"mean_vector\": mean_vec,\n",
    "        \"X_centered\": X_centered,\n",
    "        \"X_centered_transpose\": X_centered.T,\n",
    "        \"X_centered_X_centered_transpose\": np.dot(X_centered.T, X_centered),\n",
    "        \"covariance_matrix\": covariance_matrix,\n",
    "        \"eigenvalues\": eigenvalues,\n",
    "        \"eigenvectors\": eigenvectors,\n",
    "        \"X_transformed\": X_transformed\n",
    "    }\n",
    "\n",
    "# Example usage:\n",
    "X = np.array([[2, 0],\n",
    "              [0, 2],\n",
    "              [3, 1]])\n",
    "\n",
    "pca_result = pca(X)\n",
    "print(\"Original Matrix:\\n\", X, \"\\n\")\n",
    "print(\"Mean Vector:\\n\", pca_result[\"mean_vector\"],\"\\n\")\n",
    "print(\"Centered Matrix:\\n\", pca_result[\"X_centered\"])\n",
    "print(\"Transpose of Centered Matrix:\\n\", pca_result[\"X_centered_transpose\"],\"\\n\")\n",
    "print(\"Matrix Multiplication Result (X_centered^T * X_centered):\\n\", pca_result[\"X_centered_X_centered_transpose\"],\"\\n\")\n",
    "print(\"Covariance Matrix:\\n\", pca_result[\"covariance_matrix\"],\"\\n\")\n",
    "print(\"Eigenvalues:\\n\", pca_result[\"eigenvalues\"],\"\\n\")\n",
    "print(\"Eigenvectors:\\n\", pca_result[\"eigenvectors\"],\"\\n\")\n",
    "print(\"Transformed Matrix (X_transformed):\\n\", pca_result[\"X_transformed\"],\"\\n\")"
   ]
  },
  {
   "cell_type": "markdown",
   "metadata": {},
   "source": [
    "## Neural Network\n"
   ]
  },
  {
   "cell_type": "code",
   "execution_count": 50,
   "metadata": {},
   "outputs": [],
   "source": [
    "# Python code for doing a forward propagation in a simple neural network\n",
    "'''\n",
    "Let say we have a simple neural network with:\n",
    "    1. Input layer : 2 features\n",
    "    2. Hidden layer : 2 neurons with ReLU activation function\n",
    "    3. Output layer : 1 neuron with no activation (linear output)\n",
    "\n",
    "'''\n",
    "\n",
    "matrix_n = np.array([[1, 2],\n",
    "              [3, 4],\n",
    "              [5, 6]]) # Input layer\n",
    "\n",
    "w_1 = np.array([[0.1, 0.2],\n",
    "                [0.3, 0.4]]) # Weights for hidden layer\n",
    "\n",
    "b_1 = np.array([0.1, 0.2]) # Bias for hidden layer\n",
    "\n",
    "w_2 = np.array([[0.5],\n",
    "                [0.6]]) # Weights for output layer\n",
    "\n",
    "b_2 = np.array([0.3]) # Bias for output layer\n",
    "\n",
    "def forward_propagation(X, w1, b1, w2, b2):\n",
    "    # Calculate the dot product of X and w1\n",
    "    z1 = np.dot(X, w1) + b1\n",
    "    \n",
    "    # Apply the ReLU activation function\n",
    "    a1 = np.maximum(0, z1)\n",
    "    \n",
    "    # Calculate the dot product of a1 and w2\n",
    "    z2 = np.dot(a1, w2) + b2\n",
    "    \n",
    "    # The output layer has no activation function\n",
    "    a2 = z2\n",
    "    \n",
    "    return {\n",
    "        \"z1\": z1,\n",
    "        \"a1\": a1,\n",
    "        \"z2\": z2,\n",
    "        \"a2\": a2\n",
    "    }"
   ]
  },
  {
   "cell_type": "code",
   "execution_count": 51,
   "metadata": {},
   "outputs": [
    {
     "name": "stdout",
     "output_type": "stream",
     "text": [
      "Forward Propagation Result:\n",
      " {'z1': array([[0.8, 1.2],\n",
      "       [1.6, 2.4],\n",
      "       [2.4, 3.6]]), 'a1': array([[0.8, 1.2],\n",
      "       [1.6, 2.4],\n",
      "       [2.4, 3.6]]), 'z2': array([[1.42],\n",
      "       [2.54],\n",
      "       [3.66]]), 'a2': array([[1.42],\n",
      "       [2.54],\n",
      "       [3.66]])}\n"
     ]
    }
   ],
   "source": [
    "#test case\n",
    "forward_propagation_result = forward_propagation(matrix_n, w_1, b_1, w_2, b_2)\n",
    "print(\"Forward Propagation Result:\\n\", forward_propagation_result)"
   ]
  },
  {
   "cell_type": "code",
   "execution_count": 52,
   "metadata": {},
   "outputs": [
    {
     "name": "stdout",
     "output_type": "stream",
     "text": [
      "Backward Propagation Result:\n",
      " {'grad_w1': array([[11.42 , 13.704],\n",
      "       [14.48 , 17.376]]), 'grad_b1': array([3.06 , 3.672]), 'grad_w2': array([[11.584],\n",
      "       [17.376]]), 'grad_b2': array([6.12])}\n"
     ]
    }
   ],
   "source": [
    "# Python code for doing a backward propagation in a simple neural network\n",
    "# Let's use the same neural network architecture as before\n",
    "\n",
    "def backward_propagation(X, Y, w1, b1, w2, b2, forward_propagation_result):\n",
    "    # Get the forward propagation results\n",
    "    a1 = forward_propagation_result[\"a1\"]\n",
    "    a2 = forward_propagation_result[\"a2\"]\n",
    "    \n",
    "    # Calculate the error in the output layer\n",
    "    error_output = a2 - Y\n",
    "    \n",
    "    # Calculate the gradient of the loss with respect to w2\n",
    "    grad_w2 = np.dot(a1.T, error_output)\n",
    "    \n",
    "    # Calculate the gradient of the loss with respect to b2\n",
    "    grad_b2 = np.sum(error_output, axis=0)\n",
    "    \n",
    "    # Calculate the error in the hidden layer\n",
    "    error_hidden = np.dot(error_output, w2.T)\n",
    "    \n",
    "    # Calculate the gradient of the loss with respect to w1\n",
    "    grad_w1 = np.dot(X.T, error_hidden * (a1 > 0))\n",
    "    \n",
    "    # Calculate the gradient of the loss with respect to b1\n",
    "    grad_b1 = np.sum(error_hidden * (a1 > 0), axis=0)\n",
    "    \n",
    "    return {\n",
    "        \"grad_w1\": grad_w1,\n",
    "        \"grad_b1\": grad_b1,\n",
    "        \"grad_w2\": grad_w2,\n",
    "        \"grad_b2\": grad_b2\n",
    "    }\n",
    "\n",
    "#test case\n",
    "Y = np.array([[0.5]]) # True output\n",
    "backward_propagation_result = backward_propagation(matrix_n, Y, w_1, b_1, w_2, b_2, forward_propagation_result)\n",
    "print(\"Backward Propagation Result:\\n\", backward_propagation_result)"
   ]
  }
 ],
 "metadata": {
  "kernelspec": {
   "display_name": "Python 3",
   "language": "python",
   "name": "python3"
  },
  "language_info": {
   "codemirror_mode": {
    "name": "ipython",
    "version": 3
   },
   "file_extension": ".py",
   "mimetype": "text/x-python",
   "name": "python",
   "nbconvert_exporter": "python",
   "pygments_lexer": "ipython3",
   "version": "3.11.1"
  }
 },
 "nbformat": 4,
 "nbformat_minor": 2
}
