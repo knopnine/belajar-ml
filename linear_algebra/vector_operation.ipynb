{
 "cells": [
  {
   "cell_type": "code",
   "execution_count": 4,
   "metadata": {},
   "outputs": [],
   "source": [
    "import math\n",
    "\n",
    "def vector_component_form(magnitude, direction):\n",
    "    \"\"\"\n",
    "    Calculates the x and y components of a vector.\n",
    "\n",
    "    Args:\n",
    "        magnitude: The magnitude of the vector.\n",
    "        direction: The direction of the vector in degrees.\n",
    "\n",
    "    Returns:\n",
    "        A tuple containing the x and y components of the vector.\n",
    "    \"\"\"\n",
    "    x = magnitude * math.cos(math.radians(direction))\n",
    "    y = magnitude * math.sin(math.radians(direction))\n",
    "    return round(x, 2), round(y, 2)\n",
    "\n",
    "def add_vectors(v1, v2):\n",
    "    \"\"\"\n",
    "    Adds two vectors component-wise.\n",
    "\n",
    "    Args:\n",
    "        v1: A tuple representing the x and y components of the first vector.\n",
    "        v2: A tuple representing the x and y components of the second vector.\n",
    "\n",
    "    Returns:\n",
    "        A tuple representing the x and y components of the sum of the vectors.\n",
    "    \"\"\"\n",
    "    x = v1[0] + v2[0]\n",
    "    y = v1[1] + v2[1]\n",
    "    return round(x, 2), round(y, 2)\n",
    "\n",
    "def substract_vectors(v1, v2):\n",
    "    \"\"\"\n",
    "    Substracts two vectors component-wise.\n",
    "\n",
    "    Args:\n",
    "        v1: A tuple representing the x and y components of the first vector.\n",
    "        v2: A tuple representing the x and y components of the second vector.\n",
    "\n",
    "    Returns:\n",
    "        A tuple representing the x and y components of the difference of the vectors.\n",
    "    \"\"\"\n",
    "    x = v1[0] - v2[0]\n",
    "    y = v1[1] - v2[1]\n",
    "    return round(x, 2), round(y, 2)\n",
    "\n",
    "def unit_vector(v):\n",
    "    \"\"\"\n",
    "    Calculates the unit vector of a vector.\n",
    "\n",
    "    Args:\n",
    "        v: A tuple representing the x and y components of the vector.\n",
    "\n",
    "    Returns:\n",
    "        A tuple representing the x and y components of the unit vector.\n",
    "    \"\"\"\n",
    "    magnitude = math.sqrt(v[0]**2 + v[1]**2)\n",
    "    x = v[0] / magnitude\n",
    "    y = v[1] / magnitude\n",
    "    return round(x, 2), round(y, 2)"
   ]
  },
  {
   "cell_type": "code",
   "execution_count": 14,
   "metadata": {},
   "outputs": [
    {
     "name": "stdout",
     "output_type": "stream",
     "text": [
      "(-6.58, -2.39)\n",
      "(1.71, 4.7)\n",
      "v + w ≈ (-4.87, 2.31)\n",
      "v - w ≈ (-8.29, -7.09)\n"
     ]
    }
   ],
   "source": [
    "# Example usage:\n",
    "v_magnitude = 7\n",
    "v_direction = 200\n",
    "w_magnitude = 5\n",
    "w_direction = 70\n",
    "\n",
    "v_components = vector_component_form(v_magnitude, v_direction)\n",
    "w_components = vector_component_form(w_magnitude, w_direction)\n",
    "\n",
    "addition = add_vectors(v_components, w_components)\n",
    "difference = substract_vectors(v_components, w_components)\n",
    "\n",
    "print(v_components)\n",
    "print(w_components)\n",
    "print(f\"v + w ≈ {addition}\")\n",
    "print(f\"v - w ≈ {difference}\")"
   ]
  },
  {
   "cell_type": "code",
   "execution_count": 7,
   "metadata": {},
   "outputs": [
    {
     "name": "stdout",
     "output_type": "stream",
     "text": [
      "unit vector is : (0.27, 0.96)\n"
     ]
    }
   ],
   "source": [
    "# finding the unit vector of the sum of the vectors\n",
    "v = (2, 7)\n",
    "print(f\"unit vector is : {unit_vector(v)}\")"
   ]
  }
 ],
 "metadata": {
  "kernelspec": {
   "display_name": "Python 3",
   "language": "python",
   "name": "python3"
  },
  "language_info": {
   "codemirror_mode": {
    "name": "ipython",
    "version": 3
   },
   "file_extension": ".py",
   "mimetype": "text/x-python",
   "name": "python",
   "nbconvert_exporter": "python",
   "pygments_lexer": "ipython3",
   "version": "3.11.1"
  }
 },
 "nbformat": 4,
 "nbformat_minor": 2
}
