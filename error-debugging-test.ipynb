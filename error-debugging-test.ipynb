{
 "cells": [
  {
   "cell_type": "code",
   "execution_count": 6,
   "metadata": {},
   "outputs": [
    {
     "name": "stdout",
     "output_type": "stream",
     "text": [
      "                   1 \n",
      "                  2 3 \n",
      "                 4 5 6 \n",
      "                7 8 9 10 \n",
      "               11 12 13 14 15 \n",
      "              16 17 18 19 20 21 \n",
      "             22 23 24 25 26 27 28 \n",
      "            29 30 31 32 33 34 35 36 \n",
      "           37 38 39 40 41 42 43 44 45 \n"
     ]
    }
   ],
   "source": [
    "def print_pyramid(alignment='right'):\n",
    "    if alignment not in ['left', 'right']:\n",
    "        raise ValueError(\"Invalid alignment. Use 'left' or 'right'.\")\n",
    "\n",
    "    count = 1\n",
    "    for i in range(1, 10):\n",
    "        # Print leading spaces\n",
    "        if alignment == 'right':\n",
    "            print(' ' * (20 - i), end='')\n",
    "        else:\n",
    "            print(end='')\n",
    "\n",
    "        # Print the number(s)\n",
    "        for j in range(i):\n",
    "            print(count, end=' ')\n",
    "            count += 1\n",
    "\n",
    "        print()\n",
    "\n",
    "print_pyramid(alignment='right')"
   ]
  }
 ],
 "metadata": {
  "kernelspec": {
   "display_name": "Python 3",
   "language": "python",
   "name": "python3"
  },
  "language_info": {
   "codemirror_mode": {
    "name": "ipython",
    "version": 3
   },
   "file_extension": ".py",
   "mimetype": "text/x-python",
   "name": "python",
   "nbconvert_exporter": "python",
   "pygments_lexer": "ipython3",
   "version": "3.11.1"
  }
 },
 "nbformat": 4,
 "nbformat_minor": 2
}
