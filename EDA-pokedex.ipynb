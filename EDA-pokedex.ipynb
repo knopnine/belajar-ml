{
 "cells": [
  {
   "cell_type": "code",
   "execution_count": null,
   "metadata": {},
   "outputs": [
    {
     "data": {
      "text/plain": [
       "<bound method DataFrame.info of          #                    name          type  total     hp  attack  \\\n",
       "0                              NaN           NaN    NaN    NaN     NaN   \n",
       "1       \\t                     NaN           NaN    NaN    NaN     NaN   \n",
       "2       \\t                     NaN           NaN    NaN    NaN     NaN   \n",
       "3     0001               Bulbasaur  Grass Poison  318.0   45.0    49.0   \n",
       "4                              NaN           NaN    NaN    NaN     NaN   \n",
       "...    ...                     ...           ...    ...    ...     ...   \n",
       "9716  1024  Terapagos Stellar Form       Normal   700.0  160.0   105.0   \n",
       "9717                           NaN           NaN    NaN    NaN     NaN   \n",
       "9718    \\t                     NaN           NaN    NaN    NaN     NaN   \n",
       "9719    \\t                     NaN           NaN    NaN    NaN     NaN   \n",
       "9720  1025               Pecharunt  Poison Ghost  600.0   88.0    88.0   \n",
       "\n",
       "      defense  sp. atk  sp. def  speed  \n",
       "0         NaN      NaN      NaN    NaN  \n",
       "1         NaN      NaN      NaN    NaN  \n",
       "2         NaN      NaN      NaN    NaN  \n",
       "3        49.0     65.0     65.0   45.0  \n",
       "4         NaN      NaN      NaN    NaN  \n",
       "...       ...      ...      ...    ...  \n",
       "9716    110.0    130.0    110.0   85.0  \n",
       "9717      NaN      NaN      NaN    NaN  \n",
       "9718      NaN      NaN      NaN    NaN  \n",
       "9719      NaN      NaN      NaN    NaN  \n",
       "9720    160.0     88.0     88.0   88.0  \n",
       "\n",
       "[9721 rows x 10 columns]>"
      ]
     },
     "execution_count": 3,
     "metadata": {},
     "output_type": "execute_result"
    }
   ],
   "source": [
    "import pandas as pd\n",
    "\n",
    "# define dataset path\n",
    "# dataset source https://www.kaggle.com/datasets/mohitkumar282/used-car-dataset\n",
    "path = r\"dataset\\pokedex.json\"\n",
    "df = pd.read_json(path)\n",
    "\n",
    "#cek 5 data teratas\n",
    "df.head(5)\n"
   ]
  },
  {
   "cell_type": "code",
   "execution_count": null,
   "metadata": {},
   "outputs": [],
   "source": [
    "response = client.chat.completions.create"
   ]
  }
 ],
 "metadata": {
  "kernelspec": {
   "display_name": "Python 3",
   "language": "python",
   "name": "python3"
  },
  "language_info": {
   "codemirror_mode": {
    "name": "ipython",
    "version": 3
   },
   "file_extension": ".py",
   "mimetype": "text/x-python",
   "name": "python",
   "nbconvert_exporter": "python",
   "pygments_lexer": "ipython3",
   "version": "3.11.1"
  }
 },
 "nbformat": 4,
 "nbformat_minor": 2
}
