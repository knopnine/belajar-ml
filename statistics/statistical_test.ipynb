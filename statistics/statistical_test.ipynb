{
 "cells": [
  {
   "cell_type": "code",
   "execution_count": 1,
   "metadata": {},
   "outputs": [
    {
     "name": "stdout",
     "output_type": "stream",
     "text": [
      "F-Statistic: 16.66666666666667\n",
      "P-Value: 0.0003440183071045801\n",
      "Reject the null hypothesis: At least one model differs significantly.\n"
     ]
    }
   ],
   "source": [
    "from scipy.stats import f_oneway\n",
    "\n",
    "# Accuracy data for each model\n",
    "model_a = [0.75, 0.78, 0.74, 0.76, 0.77]\n",
    "model_b = [0.80, 0.82, 0.79, 0.81, 0.83]\n",
    "model_c = [0.77, 0.76, 0.78, 0.75, 0.74]\n",
    "\n",
    "# Perform One-Way ANOVA\n",
    "f_stat, p_value = f_oneway(model_a, model_b, model_c)\n",
    "print(\"F-Statistic:\", f_stat)\n",
    "print(\"P-Value:\", p_value)\n",
    "\n",
    "# Decision\n",
    "alpha = 0.05\n",
    "if p_value < alpha:\n",
    "    print(\"Reject the null hypothesis: At least one model differs significantly.\")\n",
    "else:\n",
    "    print(\"Fail to reject the null hypothesis: All models have similar performance.\")\n"
   ]
  },
  {
   "cell_type": "code",
   "execution_count": 2,
   "metadata": {},
   "outputs": [
    {
     "name": "stdout",
     "output_type": "stream",
     "text": [
      "T-Statistic: -15.811388300841884\n",
      "P-Value: 9.349274639994492e-05\n",
      "Reject the null hypothesis: Model B significantly improves accuracy.\n"
     ]
    }
   ],
   "source": [
    "from scipy.stats import ttest_rel\n",
    "\n",
    "# Accuracy data\n",
    "model_a = [0.75, 0.78, 0.74, 0.76, 0.77]\n",
    "model_b = [0.80, 0.82, 0.79, 0.81, 0.83]\n",
    "\n",
    "# Perform paired T-test\n",
    "t_stat, p_value = ttest_rel(model_a, model_b)\n",
    "print(\"T-Statistic:\", t_stat)\n",
    "print(\"P-Value:\", p_value)\n",
    "\n",
    "# Decision\n",
    "alpha = 0.05\n",
    "if p_value < alpha:\n",
    "    print(\"Reject the null hypothesis: Model B significantly improves accuracy.\")\n",
    "else:\n",
    "    print(\"Fail to reject the null hypothesis: No significant improvement.\")\n"
   ]
  },
  {
   "cell_type": "code",
   "execution_count": 3,
   "metadata": {},
   "outputs": [
    {
     "name": "stdout",
     "output_type": "stream",
     "text": [
      "Chi2 Statistic: 21.35873015873016\n",
      "P-Value: 3.8088236274839486e-06\n",
      "Degrees of Freedom: 1\n",
      "Expected Frequencies: [[35. 45.]\n",
      " [35. 45.]]\n",
      "Reject the null hypothesis: Device preference depends on the operating system.\n"
     ]
    }
   ],
   "source": [
    "from scipy.stats import chi2_contingency\n",
    "\n",
    "# Contingency table\n",
    "data = [[50, 30],  # iOS\n",
    "        [20, 60]]  # Android\n",
    "\n",
    "# Perform Chi-Square Test\n",
    "chi2, p_value, dof, expected = chi2_contingency(data)\n",
    "print(\"Chi2 Statistic:\", chi2)\n",
    "print(\"P-Value:\", p_value)\n",
    "print(\"Degrees of Freedom:\", dof)\n",
    "print(\"Expected Frequencies:\", expected)\n",
    "\n",
    "# Decision\n",
    "alpha = 0.05\n",
    "if p_value < alpha:\n",
    "    print(\"Reject the null hypothesis: Device preference depends on the operating system.\")\n",
    "else:\n",
    "    print(\"Fail to reject the null hypothesis: Device preference is independent of the operating system.\")\n"
   ]
  },
  {
   "cell_type": "code",
   "execution_count": 4,
   "metadata": {},
   "outputs": [
    {
     "name": "stdout",
     "output_type": "stream",
     "text": [
      "Mann-Whitney U Statistic: 15.0\n",
      "P-Value: 0.6904761904761905\n"
     ]
    }
   ],
   "source": [
    "from scipy.stats import mannwhitneyu\n",
    "\n",
    "group1 = [23, 45, 56, 67, 89]  # Branch A ratings\n",
    "group2 = [21, 41, 54, 62, 84]  # Branch B ratings\n",
    "\n",
    "stat, p_value = mannwhitneyu(group1, group2, alternative='two-sided')\n",
    "print(\"Mann-Whitney U Statistic:\", stat)\n",
    "print(\"P-Value:\", p_value)"
   ]
  },
  {
   "cell_type": "code",
   "execution_count": 6,
   "metadata": {},
   "outputs": [
    {
     "name": "stdout",
     "output_type": "stream",
     "text": [
      "KS Statistic (1-sample): 0.5437953125423168\n",
      "P-Value: 0.03456960557752461\n",
      "Reject the null hypothesis: Data does not follow the normal distribution.\n"
     ]
    }
   ],
   "source": [
    "from scipy.stats import ks_1samp, norm\n",
    "\n",
    "# Test if a sample is normally distributed\n",
    "data = [0.12, 0.15, 0.16, 0.14, 0.13, 0.11]\n",
    "\n",
    "# Perform 1-sample KS Test against the standard normal distribution\n",
    "stat, p_value = ks_1samp(data, norm.cdf)\n",
    "print(\"KS Statistic (1-sample):\", stat)\n",
    "print(\"P-Value:\", p_value)\n",
    "\n",
    "if p_value < 0.05:\n",
    "    print(\"Reject the null hypothesis: Data does not follow the normal distribution.\")\n",
    "else:\n",
    "    print(\"Fail to reject the null hypothesis: Data follows the normal distribution.\")\n"
   ]
  },
  {
   "cell_type": "code",
   "execution_count": 7,
   "metadata": {},
   "outputs": [
    {
     "name": "stdout",
     "output_type": "stream",
     "text": [
      "Shapiro-Wilk Statistic: 0.9992933591693641\n",
      "P-Value: 0.9998029362346917\n",
      "Fail to reject the null hypothesis: Data is normally distributed.\n"
     ]
    }
   ],
   "source": [
    "from scipy.stats import shapiro\n",
    "\n",
    "data = [23, 45, 56, 67, 89]\n",
    "stat, p_value = shapiro(data)\n",
    "print(\"Shapiro-Wilk Statistic:\", stat)\n",
    "print(\"P-Value:\", p_value)\n",
    "\n",
    "if p_value < 0.05:\n",
    "    print(\"Reject the null hypothesis: Data is not normally distributed.\")\n",
    "else:\n",
    "    print(\"Fail to reject the null hypothesis: Data is normally distributed.\")"
   ]
  },
  {
   "cell_type": "code",
   "execution_count": 8,
   "metadata": {},
   "outputs": [
    {
     "name": "stdout",
     "output_type": "stream",
     "text": [
      "Wilcoxon Statistic: 0.0\n",
      "P-Value: 0.0625\n",
      "Fail to reject the null hypothesis: No significant difference.\n"
     ]
    }
   ],
   "source": [
    "from scipy.stats import wilcoxon\n",
    "\n",
    "# Paired data: Weights before and after diet program\n",
    "before = [70, 72, 68, 65, 75]\n",
    "after = [68, 70, 67, 63, 73]\n",
    "\n",
    "stat, p_value = wilcoxon(before, after)\n",
    "print(\"Wilcoxon Statistic:\", stat)\n",
    "print(\"P-Value:\", p_value)\n",
    "\n",
    "if p_value < 0.05:\n",
    "    print(\"Reject the null hypothesis: Significant difference in paired samples.\")\n",
    "else:\n",
    "    print(\"Fail to reject the null hypothesis: No significant difference.\")"
   ]
  }
 ],
 "metadata": {
  "kernelspec": {
   "display_name": "Python 3",
   "language": "python",
   "name": "python3"
  },
  "language_info": {
   "codemirror_mode": {
    "name": "ipython",
    "version": 3
   },
   "file_extension": ".py",
   "mimetype": "text/x-python",
   "name": "python",
   "nbconvert_exporter": "python",
   "pygments_lexer": "ipython3",
   "version": "3.11.1"
  }
 },
 "nbformat": 4,
 "nbformat_minor": 2
}
