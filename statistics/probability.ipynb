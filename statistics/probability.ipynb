{
 "cells": [
  {
   "cell_type": "code",
   "execution_count": 4,
   "metadata": {},
   "outputs": [
    {
     "name": "stdout",
     "output_type": "stream",
     "text": [
      "the probability of spam given an offer is approximately 0.636\n"
     ]
    }
   ],
   "source": [
    "# Spam Classifier (Bayes Theorem)\n",
    "\n",
    "p_spam = 0.2 #probability of spam\n",
    "p_not_spam = 0.8 #probability of not spam\n",
    "p_offer_in_spam = 0.7 #probability of offer in spam\n",
    "p_offer_in_not_spam = 0.1 #probability of offer in not spam\n",
    "\n",
    "#use bayes theorem to calculate the probability of spam given an offer\n",
    "p_offer = p_offer_in_spam * p_spam + p_offer_in_not_spam * p_not_spam\n",
    "p_spam_offer = p_offer_in_spam * p_spam / p_offer\n",
    "\n",
    "print(f\"the probability of spam given an offer is approximately {p_spam_offer:.3f}\")"
   ]
  },
  {
   "cell_type": "code",
   "execution_count": 6,
   "metadata": {},
   "outputs": [
    {
     "name": "stdout",
     "output_type": "stream",
     "text": [
      "the probability of the forest area is inhabited by rabbits given that it is inhabited by deer is approximately 0.500\n",
      "the probability of the forest area is inhabited by deer given that it is inhabited by rabbits is approximately 0.667\n",
      "the probability of the forest area is not inhabited by both deer and rabbits is 0.800\n"
     ]
    }
   ],
   "source": [
    "# Ecosystem Cohabitation (Conditonal Probability)\n",
    "\n",
    "p_d = 0.4 #probability of the forest area is inhabited by deer\n",
    "p_r = 0.3 #probability of the forest area is inhabited by rabbits\n",
    "p_d_and_r = 0.2 #probability of the forest area is inhabited by both deer and rabbits\n",
    "\n",
    "#use conditional probability to calculate the probability of the forest area is inhabited by rabbits given that it is inhabited by deer\n",
    "p_r_given_d = p_d_and_r / p_d #probability of the forest area is inhabited by rabbits given that it is inhabited by deer\n",
    "p_d_given_r = p_d_and_r / p_r #probability of the forest area is inhabited by deer given that it is inhabited by rabbits\n",
    "\n",
    "#Complement Rule\n",
    "p_not_d = 1 - p_d #probability of the forest area is not inhabited by deer\n",
    "p_not_r = 1 - p_r #probability of the forest area is not inhabited by rabbits\n",
    "p_not_d_and_r = 1 - p_d_and_r #probability of the forest area is not inhabited by both deer and rabbits\n",
    "\n",
    "\n",
    "print(f\"the probability of the forest area is inhabited by rabbits given that it is inhabited by deer is approximately {p_r_given_d:.3f}\")\n",
    "print(f\"the probability of the forest area is inhabited by deer given that it is inhabited by rabbits is approximately {p_d_given_r:.3f}\")\n",
    "print(f\"the probability of the forest area is not inhabited by both deer and rabbits is {p_not_d_and_r:.3f}\")"
   ]
  },
  {
   "cell_type": "code",
   "execution_count": 11,
   "metadata": {},
   "outputs": [
    {
     "name": "stdout",
     "output_type": "stream",
     "text": [
      "the probability of getting exactly 2 sixes when rolling a fair six-sided dice three times is 0.069\n",
      "the probability of getting at least one six when rolling a fair six-sided dice three times is 0.421\n",
      "the probability of getting at zero six when rolling a fair six-sided dice three times is 0.579\n"
     ]
    }
   ],
   "source": [
    "#Dice Binomial Distribution\n",
    "import math\n",
    "\n",
    "k = 2 #number of successes \n",
    "n = 3 #number of trials\n",
    "p = 1/6 #probability of success\n",
    "q = 1 - p #probability of failure\n",
    "\n",
    "#use binomial distribution to calculate the probability of getting exactly 2 sixes when rolling a fair six-sided dice three times\n",
    "p_2_sixes = math.factorial(n) / (math.factorial(k) * math.factorial(n - k)) * (p**k) * (q**(n - k))\n",
    "print(f\"the probability of getting exactly 2 sixes when rolling a fair six-sided dice three times is {p_2_sixes:.3f}\")\n",
    "\n",
    "#use binomial distribution to calculate the probability of getting at zero six when rolling a fair six-sided dice three times\n",
    "p_zero_sixes = math.factorial(n) / (math.factorial(0) * math.factorial(n - 0)) * (p**0) * (q**(n - 0))\n",
    "\n",
    "#use binomial distribution to calculate the probability of getting at least one six when rolling a fair six-sided dice three times\n",
    "p_at_least_one_six = 1 - p_zero_sixes\n",
    "\n",
    "print(f\"the probability of getting at least one six when rolling a fair six-sided dice three times is {p_at_least_one_six:.3f}\")\n",
    "print(f\"the probability of getting at zero six when rolling a fair six-sided dice three times is {p_zero_sixes:.3f}\")\n"
   ]
  },
  {
   "cell_type": "code",
   "execution_count": 19,
   "metadata": {},
   "outputs": [
    {
     "name": "stdout",
     "output_type": "stream",
     "text": [
      "Correlation coefficient (r): 0.9956\n",
      "Covariance: 164.4727\n"
     ]
    }
   ],
   "source": []
  }
 ],
 "metadata": {
  "kernelspec": {
   "display_name": "Python 3",
   "language": "python",
   "name": "python3"
  },
  "language_info": {
   "codemirror_mode": {
    "name": "ipython",
    "version": 3
   },
   "file_extension": ".py",
   "mimetype": "text/x-python",
   "name": "python",
   "nbconvert_exporter": "python",
   "pygments_lexer": "ipython3",
   "version": "3.11.1"
  }
 },
 "nbformat": 4,
 "nbformat_minor": 2
}
