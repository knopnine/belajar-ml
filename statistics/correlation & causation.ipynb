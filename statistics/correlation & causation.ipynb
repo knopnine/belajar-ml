{
 "cells": [
  {
   "cell_type": "code",
   "execution_count": 2,
   "metadata": {},
   "outputs": [
    {
     "name": "stdout",
     "output_type": "stream",
     "text": [
      "Correlation coefficient (r): 0.9956\n",
      "Covariance: 164.4727\n"
     ]
    }
   ],
   "source": [
    "import numpy as np\n",
    "\n",
    "# Data\n",
    "training_hrs= np.array([2, 4, 6, 8, 10, 12, 14, 16, 18, 20, 24])\n",
    "perf_scores = np.array([50, 55, 60, 68, 75, 85, 92, 100, 105, 110, 120])\n",
    "\n",
    "# Calculate correlation coefficient\n",
    "correlation = np.corrcoef(training_hrs, perf_scores )[0, 1]\n",
    "\n",
    "# Calculate covariance\n",
    "covariance = np.cov(training_hrs, perf_scores)[0, 1]\n",
    "\n",
    "# Output\n",
    "print(f\"Correlation coefficient (r): {correlation:.4f}\")\n",
    "print(f\"Covariance: {covariance:.4f}\")"
   ]
  }
 ],
 "metadata": {
  "kernelspec": {
   "display_name": "Python 3",
   "language": "python",
   "name": "python3"
  },
  "language_info": {
   "codemirror_mode": {
    "name": "ipython",
    "version": 3
   },
   "file_extension": ".py",
   "mimetype": "text/x-python",
   "name": "python",
   "nbconvert_exporter": "python",
   "pygments_lexer": "ipython3",
   "version": "3.11.1"
  }
 },
 "nbformat": 4,
 "nbformat_minor": 2
}
