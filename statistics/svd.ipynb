{
 "cells": [
  {
   "cell_type": "code",
   "execution_count": 1,
   "metadata": {},
   "outputs": [
    {
     "name": "stdout",
     "output_type": "stream",
     "text": [
      "Original Matrix (R):\n",
      " [[5. 3. 0. 1. 0.]\n",
      " [4. 0. 0. 1. 0.]\n",
      " [1. 1. 0. 5. 4.]\n",
      " [0. 0. 5. 4. 0.]\n",
      " [0. 1. 5. 4. 0.]]\n",
      "\n",
      "Reduced Singular Values (S_k):\n",
      " [[10.13139716  0.        ]\n",
      " [ 0.          6.94299702]]\n",
      "\n",
      "Reconstructed Matrix (R_approx):\n",
      " [[ 4.77  1.98 -0.85  1.69  1.12]\n",
      " [ 3.14  1.31 -0.51  1.16  0.74]\n",
      " [ 2.42  1.34  2.11  3.56  1.12]\n",
      " [-0.56  0.33  4.39  4.36  0.81]\n",
      " [-0.27  0.46  4.36  4.49  0.88]]\n"
     ]
    }
   ],
   "source": [
    "import numpy as np\n",
    "from numpy.linalg import svd\n",
    "\n",
    "# User-Movie Ratings Matrix (5x5 example with missing values as 0)\n",
    "R = np.array([\n",
    "    [5, 3, 0, 1, 0],\n",
    "    [4, 0, 0, 1, 0],\n",
    "    [1, 1, 0, 5, 4],\n",
    "    [0, 0, 5, 4, 0],\n",
    "    [0, 1, 5, 4, 0]\n",
    "], dtype=float)\n",
    "\n",
    "# Step 1: Perform SVD\n",
    "U, S, VT = svd(R, full_matrices=False)\n",
    "\n",
    "# Step 2: Reduce Dimensionality\n",
    "k = 2  # Number of features to keep\n",
    "U_k = U[:, :k]\n",
    "S_k = np.diag(S[:k])\n",
    "VT_k = VT[:k, :]\n",
    "\n",
    "# Step 3: Reconstruct the Matrix\n",
    "R_approx = np.dot(np.dot(U_k, S_k), VT_k)\n",
    "\n",
    "# Print Results\n",
    "print(\"Original Matrix (R):\\n\", R)\n",
    "print(\"\\nReduced Singular Values (S_k):\\n\", S_k)\n",
    "print(\"\\nReconstructed Matrix (R_approx):\\n\", np.round(R_approx, 2))"
   ]
  }
 ],
 "metadata": {
  "kernelspec": {
   "display_name": "Python 3",
   "language": "python",
   "name": "python3"
  },
  "language_info": {
   "codemirror_mode": {
    "name": "ipython",
    "version": 3
   },
   "file_extension": ".py",
   "mimetype": "text/x-python",
   "name": "python",
   "nbconvert_exporter": "python",
   "pygments_lexer": "ipython3",
   "version": "3.11.1"
  }
 },
 "nbformat": 4,
 "nbformat_minor": 2
}
